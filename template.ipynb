{
 "cells": [
  {
   "cell_type": "markdown",
   "metadata": {},
   "source": [
    "# Ejercicio de Postulación - Área de Interrogaciones"
   ]
  },
  {
   "cell_type": "markdown",
   "metadata": {},
   "source": [
    "Nombre: Matías Agustín Padilla Vera\n",
    "\n",
    "Email: m.padilla.v@uc.cl\n",
    "\n",
    "Telegram: @Tesyor"
   ]
  },
  {
   "cell_type": "markdown",
   "metadata": {},
   "source": [
    "## Código solución (NO MODIFICAR)"
   ]
  },
  {
   "cell_type": "code",
   "execution_count": 2,
   "metadata": {},
   "outputs": [],
   "source": [
    "#code.py\n",
    "def obtener_proximos(partidos, equipo):\n",
    "    equipos = []\n",
    "    ex_rivales = []\n",
    "    for partido in partidos:\n",
    "        if partido[0] not in equipos:\n",
    "            equipos.append(partido[0])\n",
    "        if partido[1] not in equipos:\n",
    "            equipos.append(partido[1])\n",
    "        if equipo == partido[0]:\n",
    "            ex_rivales.append(partido[1])\n",
    "        if equipo == partido[1]:\n",
    "            ex_rivales.append(partido[0])\n",
    "    pendientes = []\n",
    "    for rival in equipos:\n",
    "        if rival not in ex_rivales:\n",
    "            pendientes.append(rival)\n",
    "    return pendientes\n"
   ]
  },
  {
   "cell_type": "markdown",
   "metadata": {},
   "source": [
    "## Runner Personalizado (Opcional Modificar) "
   ]
  },
  {
   "cell_type": "markdown",
   "metadata": {},
   "source": [
    "Se tendra en consideración si logran hacer que los outputs sean iguales (solo modificando el runner) independiente del orden en que retornen los elementos en la lista."
   ]
  },
  {
   "cell_type": "code",
   "execution_count": null,
   "metadata": {},
   "outputs": [],
   "source": [
    "from functools import partial\n",
    "\n",
    "def obtener_proximos_modificada(func_original, partidos, equipo):\n",
    "    resultado = func_original(partidos, equipo)\n",
    "    # Cambiar Comportamiento de la función original (opcional)\n",
    "    return resultado\n",
    "\n",
    "# Con esto reescribimos la función original para capturar el capturar resultado del alumno y modificarlo si es necesario\n",
    "obtener_proximos = partial(obtener_proximos_modificada, obtener_proximos)\n"
   ]
  },
  {
   "cell_type": "markdown",
   "metadata": {},
   "source": [
    "## Enunciado"
   ]
  },
  {
   "cell_type": "markdown",
   "metadata": {},
   "source": [
    "### Objetivo\n",
    "\n",
    "Tu objetivo es organizar los partidos del DCCampeonato de fútbol. En este campeonato, todos los equipos se enfrentan contra todos exactamente 1 vez. \n",
    "\n",
    "Para esto, debes definir la función `obtener_proximos(partidos, equipo)`, la cual recibe dos argumentos: partidos y equipo. El argumento `partidos` corresponde a una lista de listas, la cual representa todos los partidos ya jugados, donde cada sublista corresponde a un partido, y los elementos de esta corresponden a los equipos que jugaron dicho partido. El argumento `equipo` corresponde al equipo a evaluar. La función debe retornar una lista que contenga todos los equipos con los que el `equipo` no se haya enfrentado.\n",
    "\n",
    "El orden de los equipos dentro de la lista a retornar no es importante, y puedes incluir el nombre del equipo a evaluar en esta misma. "
   ]
  },
  {
   "cell_type": "markdown",
   "metadata": {},
   "source": [
    "### Ejemplo"
   ]
  },
  {
   "cell_type": "markdown",
   "metadata": {},
   "source": [
    "#### Input"
   ]
  },
  {
   "cell_type": "code",
   "execution_count": 7,
   "metadata": {},
   "outputs": [
    {
     "data": {
      "text/plain": [
       "['UCH', 'UC', 'CU', 'CO']"
      ]
     },
     "execution_count": 7,
     "metadata": {},
     "output_type": "execute_result"
    }
   ],
   "source": [
    "obtener_proximos([[\"UCH\", \"CC\"],\n",
    "                  [\"CC\", \"UC\"],\n",
    "                  [\"CU\", \"PA\"],\n",
    "                  [\"UCH\", \"PA\"],\n",
    "                  [\"CU\", \"CO\"]], \"UCH\")"
   ]
  },
  {
   "cell_type": "markdown",
   "metadata": {},
   "source": [
    "#### Output"
   ]
  },
  {
   "cell_type": "code",
   "execution_count": null,
   "metadata": {},
   "outputs": [],
   "source": [
    "['UCH', 'UC', 'CU', 'CO']"
   ]
  },
  {
   "cell_type": "markdown",
   "metadata": {},
   "source": [
    "#### Explicación\n",
    "\n",
    "El equipo evaluado es UCH. En este campeonato hay 6 equipos (UCH, CC, UC, CU, PA y CO). Dado que UCH jugó con CC y PA, no se consideran en los pendientes, mientras que el resto sí. "
   ]
  },
  {
   "cell_type": "markdown",
   "metadata": {},
   "source": [
    "## Testcases"
   ]
  },
  {
   "cell_type": "markdown",
   "metadata": {},
   "source": [
    "### Testcase 1\n",
    "\n",
    "El equipo UC aparece en dos partidos distintos, se evalúa que no aparezca dos veces en el output. "
   ]
  },
  {
   "cell_type": "markdown",
   "metadata": {},
   "source": [
    "#### Input"
   ]
  },
  {
   "cell_type": "code",
   "execution_count": 8,
   "metadata": {},
   "outputs": [
    {
     "data": {
      "text/plain": [
       "['UCH', 'UC', 'PA']"
      ]
     },
     "execution_count": 8,
     "metadata": {},
     "output_type": "execute_result"
    }
   ],
   "source": [
    "obtener_proximos([[\"CC\", \"UCH\"],[\"CC\", \"UC\"], [\"UC\", \"PA\"]], \"UCH\")"
   ]
  },
  {
   "cell_type": "markdown",
   "metadata": {},
   "source": [
    "#### Output"
   ]
  },
  {
   "cell_type": "code",
   "execution_count": null,
   "metadata": {},
   "outputs": [],
   "source": [
    "['UCH', 'UC', 'PA']"
   ]
  },
  {
   "cell_type": "markdown",
   "metadata": {},
   "source": [
    "### Testcase 2\n",
    "\n",
    "Se evalúa que el código del estudiante maneje bien el caso en el que el orden de los equipos no es el mismo siempre (UCH aparece como segundo elemento contra CC y como primer elemento contra UC)"
   ]
  },
  {
   "cell_type": "markdown",
   "metadata": {},
   "source": [
    "#### Input"
   ]
  },
  {
   "cell_type": "code",
   "execution_count": null,
   "metadata": {},
   "outputs": [
    {
     "data": {
      "text/plain": [
       "['UCH']"
      ]
     },
     "execution_count": 6,
     "metadata": {},
     "output_type": "execute_result"
    }
   ],
   "source": [
    "obtener_proximos([[\"CC\", \"UCH\"],\n",
    "                  [\"CC\", \"UC\"],\n",
    "                  [\"UCH\", \"UC\"]], \"UCH\")"
   ]
  },
  {
   "cell_type": "markdown",
   "metadata": {},
   "source": [
    "#### Output"
   ]
  },
  {
   "cell_type": "code",
   "execution_count": null,
   "metadata": {},
   "outputs": [],
   "source": [
    "['UCH']"
   ]
  },
  {
   "cell_type": "markdown",
   "metadata": {},
   "source": [
    "### Testcase 3\n",
    "\n",
    "Se evalúa que el resultado del estudiante contenga los equipos que jugaron en partidos anteriores a la aparición del equipo evaluado. Esto, para que revisen todos los partidos para determinar los pendientes, en vez de evaluar solo los partidos posteriores. "
   ]
  },
  {
   "cell_type": "markdown",
   "metadata": {},
   "source": [
    "#### Input"
   ]
  },
  {
   "cell_type": "code",
   "execution_count": 9,
   "metadata": {},
   "outputs": [
    {
     "data": {
      "text/plain": [
       "['CC', 'CU', 'UC', 'UCH']"
      ]
     },
     "execution_count": 9,
     "metadata": {},
     "output_type": "execute_result"
    }
   ],
   "source": [
    "obtener_proximos([[\"CC\", \"CU\"],\n",
    "                  [\"CC\", \"UC\"],\n",
    "                  [\"CU\", \"UC\"],\n",
    "                  [\"CC\", \"PA\"],\n",
    "                  [\"PA\", \"UC\"],\n",
    "                  [\"UCH\", \"PA\"]], \"UCH\")"
   ]
  },
  {
   "cell_type": "markdown",
   "metadata": {},
   "source": [
    "#### Output"
   ]
  },
  {
   "cell_type": "code",
   "execution_count": null,
   "metadata": {},
   "outputs": [],
   "source": [
    "['CC', 'CU', 'UC', 'UCH']"
   ]
  }
 ],
 "metadata": {
  "kernelspec": {
   "display_name": "Python 3",
   "language": "python",
   "name": "python3"
  },
  "language_info": {
   "codemirror_mode": {
    "name": "ipython",
    "version": 3
   },
   "file_extension": ".py",
   "mimetype": "text/x-python",
   "name": "python",
   "nbconvert_exporter": "python",
   "pygments_lexer": "ipython3",
   "version": "3.11.7"
  }
 },
 "nbformat": 4,
 "nbformat_minor": 4
}
